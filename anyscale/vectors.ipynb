{
 "cells": [
  {
   "cell_type": "code",
   "execution_count": 1,
   "metadata": {},
   "outputs": [],
   "source": [
    "LANGCHAIN_API_KEY = \"ls__ef7c69da49cf48719e4d7c4b33a3debd\"\n",
    "import os\n",
    "os.environ['LANGCHAIN_API_KEY'] = LANGCHAIN_API_KEY"
   ]
  },
  {
   "cell_type": "code",
   "execution_count": 2,
   "metadata": {},
   "outputs": [],
   "source": [
    "import json\n",
    "with open(\"train.json\", \"r\") as file:\n",
    "    dataset = json.load(file)\n",
    "file.close()"
   ]
  },
  {
   "cell_type": "code",
   "execution_count": 3,
   "metadata": {},
   "outputs": [],
   "source": [
    "from langchain_community.vectorstores import Chroma\n",
    "from langchain.text_splitter import RecursiveCharacterTextSplitter\n",
    "from langchain.schema.document import Document"
   ]
  },
  {
   "cell_type": "code",
   "execution_count": 4,
   "metadata": {},
   "outputs": [],
   "source": [
    "documents = []\n",
    "document_labels = []\n",
    "for data_part in dataset[1:100]:\n",
    "    for data in data_part['annotations'][0]['result']:\n",
    "        documents.append(Document(data['value']['text']))\n",
    "        document_labels.append(data['value']['labels'])"
   ]
  },
  {
   "cell_type": "code",
   "execution_count": 5,
   "metadata": {},
   "outputs": [
    {
     "data": {
      "text/plain": [
       "11529"
      ]
     },
     "execution_count": 5,
     "metadata": {},
     "output_type": "execute_result"
    }
   ],
   "source": [
    "len(document_labels)"
   ]
  },
  {
   "cell_type": "code",
   "execution_count": 6,
   "metadata": {},
   "outputs": [],
   "source": [
    "doc_label = {}\n",
    "for i, doc in enumerate(documents):\n",
    "    doc_label[doc.page_content] = document_labels[i]"
   ]
  },
  {
   "cell_type": "code",
   "execution_count": 7,
   "metadata": {},
   "outputs": [],
   "source": [
    "from langchain_community.embeddings import GPT4AllEmbeddings\n",
    "embeddings = GPT4AllEmbeddings()"
   ]
  },
  {
   "cell_type": "code",
   "execution_count": 8,
   "metadata": {},
   "outputs": [],
   "source": [
    "# vector = Chroma.from_documents(documents=documents, embedding=embeddings, persist_directory='./embedding')\n",
    "vector = Chroma(persist_directory='./embedding', embedding_function=embeddings)"
   ]
  },
  {
   "cell_type": "code",
   "execution_count": 9,
   "metadata": {},
   "outputs": [
    {
     "name": "stderr",
     "output_type": "stream",
     "text": [
      "100%|██████████| 91/91 [00:00<00:00, 100.68it/s]\n"
     ]
    }
   ],
   "source": [
    "from tqdm import tqdm\n",
    "\n",
    "true_labels = []\n",
    "pred_labels = []\n",
    "for data in tqdm(dataset[0]['annotations'][0]['result']):\n",
    "    sample_query = data['value']['text']\n",
    "    \n",
    "    true_labels.append(data['value']['labels'][0])\n",
    "    query_labels = []\n",
    "    output = vector.similarity_search(query=sample_query, k=5)\n",
    "\n",
    "    for out in output:\n",
    "        query_labels.append([out.page_content, doc_label[out.page_content][0]])\n",
    "    pred_labels.append(query_labels)"
   ]
  },
  {
   "cell_type": "code",
   "execution_count": 10,
   "metadata": {},
   "outputs": [
    {
     "data": {
      "text/plain": [
       "(91, 91)"
      ]
     },
     "execution_count": 10,
     "metadata": {},
     "output_type": "execute_result"
    }
   ],
   "source": [
    "len(true_labels), len(pred_labels)"
   ]
  },
  {
   "cell_type": "code",
   "execution_count": 14,
   "metadata": {},
   "outputs": [
    {
     "data": {
      "text/plain": [
       "([['     IN THE HIGH COURT OF KARNATAKA\\n                  DHARWAD BENCH\\n\\nDATED THIS THE 21ST DAY OF SEPTEMBER, 2015',\n",
       "   'PREAMBLE'],\n",
       "  ['IN THE HIGH COURT OF KARNATAKA AT BENGALURU\\n\\nDATED THIS THE 22ND DAY OF DECEMBER 2016\\n\\nBEFORE',\n",
       "   'PREAMBLE'],\n",
       "  ['IN THE HIGH COURT OF KARNATAKA AT BENGALURU\\n         DATED THIS THE 13TH DAY OF JUNE 2019\\n                                   BEFORE',\n",
       "   'PREAMBLE'],\n",
       "  ['IN THE HIGH COURT OF KARNATAKA AT BENGALURU\\n\\nDATED THIS THE 26TH DAY OF FEBRUARY 2016',\n",
       "   'PREAMBLE'],\n",
       "  ['IN THE HIGH COURT OF KARNATAKA AT BENGALURU\\n    DATED THIS THE 29TH DAY OF JANUARY, 2015\\n                                  BEFORE',\n",
       "   'PREAMBLE']],\n",
       " 'PREAMBLE')"
      ]
     },
     "execution_count": 14,
     "metadata": {},
     "output_type": "execute_result"
    }
   ],
   "source": [
    "pred_labels[0], true_labels[0]"
   ]
  },
  {
   "cell_type": "code",
   "execution_count": 15,
   "metadata": {},
   "outputs": [
    {
     "data": {
      "text/plain": [
       "['./vecs/doc_label']"
      ]
     },
     "execution_count": 15,
     "metadata": {},
     "output_type": "execute_result"
    }
   ],
   "source": [
    "import joblib\n",
    "joblib.dump(pred_labels, './vecs/top_preds')\n",
    "joblib.dump(true_labels, './vecs/true_labels')\n",
    "joblib.dump(doc_label, \"./vecs/doc_label\")"
   ]
  },
  {
   "cell_type": "code",
   "execution_count": null,
   "metadata": {},
   "outputs": [],
   "source": []
  }
 ],
 "metadata": {
  "kernelspec": {
   "display_name": "langchain",
   "language": "python",
   "name": "python3"
  },
  "language_info": {
   "codemirror_mode": {
    "name": "ipython",
    "version": 3
   },
   "file_extension": ".py",
   "mimetype": "text/x-python",
   "name": "python",
   "nbconvert_exporter": "python",
   "pygments_lexer": "ipython3",
   "version": "3.10.14"
  }
 },
 "nbformat": 4,
 "nbformat_minor": 2
}
